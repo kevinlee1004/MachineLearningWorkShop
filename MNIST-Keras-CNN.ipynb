{
 "cells": [
  {
   "cell_type": "code",
   "execution_count": 1,
   "metadata": {},
   "outputs": [
    {
     "name": "stderr",
     "output_type": "stream",
     "text": [
      "Using TensorFlow backend.\n"
     ]
    }
   ],
   "source": [
    "## Import Modules\n",
    "import numpy as np\n",
    "from matplotlib import pyplot as plt\n",
    "\n",
    "from keras.utils import np_utils\n",
    "from keras.models import Sequential\n",
    "from keras.layers.core import Dense, Dropout, Flatten\n",
    "from keras.callbacks import EarlyStopping, ModelCheckpoint\n",
    "from keras.layers import Conv2D, MaxPooling2D\n",
    "from keras.optimizers import Adam\n",
    "\n",
    "from keras.callbacks import EarlyStopping"
   ]
  },
  {
   "cell_type": "code",
   "execution_count": 2,
   "metadata": {},
   "outputs": [],
   "source": [
    "## import MNIST datasets\n",
    "from keras.datasets import mnist\n",
    "#(X_train2, y_train2), (X_test2, y_test2) = mnist.load_data()\n",
    "\n",
    "b = np.load('./data/mnist.npz')\n",
    "## train and test data\n",
    "X_train2, y_train2, X_test2, y_test2 = b['x_train'], b['y_train'], b['x_test'], b['y_test']"
   ]
  },
  {
   "cell_type": "code",
   "execution_count": 3,
   "metadata": {},
   "outputs": [
    {
     "name": "stdout",
     "output_type": "stream",
     "text": [
      "(60000, 28, 28)\n",
      "(10000, 28, 28)\n",
      "(60000,)\n",
      "(10000,)\n"
     ]
    }
   ],
   "source": [
    "print(X_train2.shape)\n",
    "print(X_test2.shape)\n",
    "print(y_train2.shape)\n",
    "print(y_test2.shape)"
   ]
  },
  {
   "cell_type": "code",
   "execution_count": 4,
   "metadata": {},
   "outputs": [],
   "source": [
    "## Preare Train and Test data\n",
    "img_rows, img_cols = X_train2[0].shape[0], X_train2[0].shape[1]\n",
    "\n",
    "## Prepare X data by reshaping to 3 dimensions\n",
    "X_train3 = X_train2.reshape(X_train2.shape[0], img_rows, img_cols, 1)\n",
    "X_test3 = X_test2.reshape(X_test2.shape[0], img_rows, img_cols, 1)\n",
    "input_shape = (img_rows, img_cols, 1) ## 28 by 28 by 1"
   ]
  },
  {
   "cell_type": "code",
   "execution_count": 5,
   "metadata": {},
   "outputs": [
    {
     "name": "stdout",
     "output_type": "stream",
     "text": [
      "Image row and columns ;  28 28\n",
      "Shape of Train data :  (60000, 28, 28, 1)\n",
      "Shape of Test data :  (10000, 28, 28, 1)\n",
      "Shape of input layer :  (28, 28, 1)\n",
      "Number of records:  60000\n"
     ]
    }
   ],
   "source": [
    "print(\"Image row and columns ; \", img_rows, img_cols)\n",
    "print(\"Shape of Train data : \", X_train3.shape)\n",
    "print(\"Shape of Test data : \", X_test3.shape)\n",
    "print(\"Shape of input layer : \", input_shape)\n",
    "\n",
    "print(\"Number of records: \", X_train2.shape[0])"
   ]
  },
  {
   "cell_type": "code",
   "execution_count": 6,
   "metadata": {},
   "outputs": [],
   "source": [
    "## Normalize the data\n",
    "X_train = X_train3.astype('float32')/255.\n",
    "X_test = X_test3.astype('float32')/255."
   ]
  },
  {
   "cell_type": "code",
   "execution_count": 7,
   "metadata": {},
   "outputs": [],
   "source": [
    "## One hot encoding \n",
    "n_classes = len(set(y_train2))\n",
    "y_train = np_utils.to_categorical(y_train2, n_classes)\n",
    "y_test = np_utils.to_categorical(y_test2, n_classes)"
   ]
  },
  {
   "cell_type": "code",
   "execution_count": 8,
   "metadata": {},
   "outputs": [
    {
     "name": "stdout",
     "output_type": "stream",
     "text": [
      "(60000, 10)\n"
     ]
    }
   ],
   "source": [
    "print(y_train.shape)"
   ]
  },
  {
   "cell_type": "code",
   "execution_count": 9,
   "metadata": {},
   "outputs": [
    {
     "name": "stdout",
     "output_type": "stream",
     "text": [
      "_________________________________________________________________\n",
      "Layer (type)                 Output Shape              Param #   \n",
      "=================================================================\n",
      "conv2d_1 (Conv2D)            (None, 26, 26, 64)        640       \n",
      "_________________________________________________________________\n",
      "max_pooling2d_1 (MaxPooling2 (None, 13, 13, 64)        0         \n",
      "_________________________________________________________________\n",
      "conv2d_2 (Conv2D)            (None, 13, 13, 128)       73856     \n",
      "_________________________________________________________________\n",
      "max_pooling2d_2 (MaxPooling2 (None, 6, 6, 128)         0         \n",
      "_________________________________________________________________\n",
      "conv2d_3 (Conv2D)            (None, 6, 6, 256)         295168    \n",
      "_________________________________________________________________\n",
      "max_pooling2d_3 (MaxPooling2 (None, 3, 3, 256)         0         \n",
      "_________________________________________________________________\n",
      "dropout_1 (Dropout)          (None, 3, 3, 256)         0         \n",
      "_________________________________________________________________\n",
      "flatten_1 (Flatten)          (None, 2304)              0         \n",
      "_________________________________________________________________\n",
      "dense_1 (Dense)              (None, 128)               295040    \n",
      "_________________________________________________________________\n",
      "dropout_2 (Dropout)          (None, 128)               0         \n",
      "_________________________________________________________________\n",
      "dense_2 (Dense)              (None, 10)                1290      \n",
      "=================================================================\n",
      "Total params: 665,994\n",
      "Trainable params: 665,994\n",
      "Non-trainable params: 0\n",
      "_________________________________________________________________\n"
     ]
    }
   ],
   "source": [
    "## Buiid CNN model\n",
    "\n",
    "model = Sequential()\n",
    "\n",
    "model.add(Conv2D(64, kernel_size=(3, 3), activation='relu', input_shape=(28,28,1)))\n",
    "model.add(MaxPooling2D(pool_size=(2, 2)))\n",
    "\n",
    "model.add(Conv2D(128, kernel_size=(3, 3), activation='relu', padding='same'))\n",
    "model.add(MaxPooling2D(pool_size=(2, 2)))\n",
    "\n",
    "model.add(Conv2D(256, kernel_size=(3, 3), activation='relu', padding='same'))\n",
    "model.add(MaxPooling2D(pool_size=(2, 2)))\n",
    "\n",
    "model.add(Dropout(0.5))\n",
    "model.add(Flatten())\n",
    "model.add(Dense(128, activation='relu'))\n",
    "model.add(Dropout(0.5))\n",
    "model.add(Dense(10, activation='softmax'))\n",
    "\n",
    "model.compile(loss=['categorical_crossentropy'], optimizer='adam', metrics=['accuracy'])\n",
    "\n",
    "model.summary()"
   ]
  },
  {
   "cell_type": "code",
   "execution_count": 10,
   "metadata": {},
   "outputs": [],
   "source": [
    "## Get Callbacks\n",
    "callbacks = [EarlyStopping(monitor='val_acc', patience=5)]"
   ]
  },
  {
   "cell_type": "code",
   "execution_count": 11,
   "metadata": {},
   "outputs": [],
   "source": [
    "batch_size = 128\n",
    "n_epochs = 10"
   ]
  },
  {
   "cell_type": "code",
   "execution_count": 12,
   "metadata": {
    "scrolled": true
   },
   "outputs": [
    {
     "name": "stdout",
     "output_type": "stream",
     "text": [
      "Train on 48000 samples, validate on 12000 samples\n",
      "Epoch 1/10\n",
      "48000/48000 [==============================] - 120s 3ms/step - loss: 0.3117 - acc: 0.9003 - val_loss: 0.0685 - val_acc: 0.9800\n",
      "Epoch 2/10\n",
      "48000/48000 [==============================] - 118s 2ms/step - loss: 0.0879 - acc: 0.9734 - val_loss: 0.0382 - val_acc: 0.9889\n",
      "Epoch 3/10\n",
      "48000/48000 [==============================] - 118s 2ms/step - loss: 0.0633 - acc: 0.9812 - val_loss: 0.0311 - val_acc: 0.9914\n",
      "Epoch 4/10\n",
      "48000/48000 [==============================] - 118s 2ms/step - loss: 0.0513 - acc: 0.9846 - val_loss: 0.0288 - val_acc: 0.9915\n",
      "Epoch 5/10\n",
      "48000/48000 [==============================] - 117s 2ms/step - loss: 0.0420 - acc: 0.9874 - val_loss: 0.0264 - val_acc: 0.9918\n",
      "Epoch 6/10\n",
      "48000/48000 [==============================] - 118s 2ms/step - loss: 0.0357 - acc: 0.9892 - val_loss: 0.0282 - val_acc: 0.9917\n",
      "Epoch 7/10\n",
      "48000/48000 [==============================] - 118s 2ms/step - loss: 0.0344 - acc: 0.9895 - val_loss: 0.0237 - val_acc: 0.9927\n",
      "Epoch 8/10\n",
      "48000/48000 [==============================] - 118s 2ms/step - loss: 0.0299 - acc: 0.9906 - val_loss: 0.0261 - val_acc: 0.9925\n",
      "Epoch 9/10\n",
      "48000/48000 [==============================] - 117s 2ms/step - loss: 0.0257 - acc: 0.9920 - val_loss: 0.0287 - val_acc: 0.9925\n",
      "Epoch 10/10\n",
      "48000/48000 [==============================] - 123s 3ms/step - loss: 0.0233 - acc: 0.9926 - val_loss: 0.0266 - val_acc: 0.9932\n"
     ]
    },
    {
     "data": {
      "text/plain": [
       "<keras.callbacks.History at 0x202b7a4f940>"
      ]
     },
     "execution_count": 12,
     "metadata": {},
     "output_type": "execute_result"
    }
   ],
   "source": [
    "## Train the model\n",
    "model.fit(X_train, y_train, batch_size=batch_size, epochs=n_epochs, verbose=1, validation_split=0.2, callbacks=callbacks)"
   ]
  },
  {
   "cell_type": "code",
   "execution_count": 13,
   "metadata": {},
   "outputs": [
    {
     "name": "stdout",
     "output_type": "stream",
     "text": [
      "Test loss: 0.01834804192893098\n",
      "Test accuracy: 0.9944\n"
     ]
    }
   ],
   "source": [
    "## Evaludation socre\n",
    "score = model.evaluate(X_test, y_test, verbose=0)\n",
    "print('Test loss:', score[0])\n",
    "print('Test accuracy:', score[1])"
   ]
  },
  {
   "cell_type": "code",
   "execution_count": null,
   "metadata": {},
   "outputs": [],
   "source": []
  }
 ],
 "metadata": {
  "kernelspec": {
   "display_name": "Python 3",
   "language": "python",
   "name": "python3"
  },
  "language_info": {
   "codemirror_mode": {
    "name": "ipython",
    "version": 3
   },
   "file_extension": ".py",
   "mimetype": "text/x-python",
   "name": "python",
   "nbconvert_exporter": "python",
   "pygments_lexer": "ipython3",
   "version": "3.6.7"
  },
  "widgets": {
   "state": {},
   "version": "1.1.2"
  }
 },
 "nbformat": 4,
 "nbformat_minor": 2
}
