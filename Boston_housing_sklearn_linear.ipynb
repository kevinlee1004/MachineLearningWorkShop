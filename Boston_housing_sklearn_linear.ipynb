{
  "nbformat": 4,
  "nbformat_minor": 0,
  "metadata": {
    "colab": {
      "name": "Boston_housing_sklearn_linear.ipynb",
      "version": "0.3.2",
      "provenance": [],
      "collapsed_sections": []
    },
    "language_info": {
      "codemirror_mode": {
        "name": "ipython",
        "version": 3
      },
      "file_extension": ".py",
      "mimetype": "text/x-python",
      "name": "python",
      "nbconvert_exporter": "python",
      "pygments_lexer": "ipython3",
      "version": "3.6.7"
    },
    "kernelspec": {
      "display_name": "Python 3",
      "language": "python",
      "name": "python3"
    }
  },
  "cells": [
    {
      "metadata": {
        "id": "jAC5V_vgOdkL",
        "colab_type": "code",
        "colab": {}
      },
      "cell_type": "code",
      "source": [
        "## import module \n",
        "import numpy\n",
        "import pandas as pd\n",
        "import sklearn\n",
        "from sklearn.model_selection import train_test_split\n",
        "\n",
        "from sklearn.linear_model import LinearRegression"
      ],
      "execution_count": 0,
      "outputs": []
    },
    {
      "metadata": {
        "id": "96AdF6sIOdkO",
        "colab_type": "code",
        "colab": {}
      },
      "cell_type": "code",
      "source": [
        "## import boston housing data\n",
        "a = numpy.load('./data/boston_housing.npz')\n",
        "X, y = a['x'], a['y']\n",
        "print(X.shape, y.shape)"
      ],
      "execution_count": 0,
      "outputs": []
    },
    {
      "metadata": {
        "id": "efZFt9ryfaUD",
        "colab_type": "text"
      },
      "cell_type": "markdown",
      "source": [
        "@Kevin, the data file is missing. I added download code below."
      ]
    },
    {
      "metadata": {
        "id": "V-GeZXcwPc6z",
        "colab_type": "code",
        "colab": {
          "base_uri": "https://localhost:8080/",
          "height": 981
        },
        "outputId": "78147252-8063-48d8-b13a-7a434aa222d3"
      },
      "cell_type": "code",
      "source": [
        "from sklearn.datasets import load_boston\n",
        "a = load_boston()\n",
        "print(a.DESCR)\n",
        "X=a.data\n",
        "y=a.target\n",
        "print('Shape of X: ', X.shape)\n",
        "print('Shape of Y: ', y.shape)  "
      ],
      "execution_count": 2,
      "outputs": [
        {
          "output_type": "stream",
          "text": [
            ".. _boston_dataset:\n",
            "\n",
            "Boston house prices dataset\n",
            "---------------------------\n",
            "\n",
            "**Data Set Characteristics:**  \n",
            "\n",
            "    :Number of Instances: 506 \n",
            "\n",
            "    :Number of Attributes: 13 numeric/categorical predictive. Median Value (attribute 14) is usually the target.\n",
            "\n",
            "    :Attribute Information (in order):\n",
            "        - CRIM     per capita crime rate by town\n",
            "        - ZN       proportion of residential land zoned for lots over 25,000 sq.ft.\n",
            "        - INDUS    proportion of non-retail business acres per town\n",
            "        - CHAS     Charles River dummy variable (= 1 if tract bounds river; 0 otherwise)\n",
            "        - NOX      nitric oxides concentration (parts per 10 million)\n",
            "        - RM       average number of rooms per dwelling\n",
            "        - AGE      proportion of owner-occupied units built prior to 1940\n",
            "        - DIS      weighted distances to five Boston employment centres\n",
            "        - RAD      index of accessibility to radial highways\n",
            "        - TAX      full-value property-tax rate per $10,000\n",
            "        - PTRATIO  pupil-teacher ratio by town\n",
            "        - B        1000(Bk - 0.63)^2 where Bk is the proportion of blacks by town\n",
            "        - LSTAT    % lower status of the population\n",
            "        - MEDV     Median value of owner-occupied homes in $1000's\n",
            "\n",
            "    :Missing Attribute Values: None\n",
            "\n",
            "    :Creator: Harrison, D. and Rubinfeld, D.L.\n",
            "\n",
            "This is a copy of UCI ML housing dataset.\n",
            "https://archive.ics.uci.edu/ml/machine-learning-databases/housing/\n",
            "\n",
            "\n",
            "This dataset was taken from the StatLib library which is maintained at Carnegie Mellon University.\n",
            "\n",
            "The Boston house-price data of Harrison, D. and Rubinfeld, D.L. 'Hedonic\n",
            "prices and the demand for clean air', J. Environ. Economics & Management,\n",
            "vol.5, 81-102, 1978.   Used in Belsley, Kuh & Welsch, 'Regression diagnostics\n",
            "...', Wiley, 1980.   N.B. Various transformations are used in the table on\n",
            "pages 244-261 of the latter.\n",
            "\n",
            "The Boston house-price data has been used in many machine learning papers that address regression\n",
            "problems.   \n",
            "     \n",
            ".. topic:: References\n",
            "\n",
            "   - Belsley, Kuh & Welsch, 'Regression diagnostics: Identifying Influential Data and Sources of Collinearity', Wiley, 1980. 244-261.\n",
            "   - Quinlan,R. (1993). Combining Instance-Based and Model-Based Learning. In Proceedings on the Tenth International Conference of Machine Learning, 236-243, University of Massachusetts, Amherst. Morgan Kaufmann.\n",
            "\n",
            "Shape of X:  (506, 13)\n",
            "Shape of Y:  (506,)\n"
          ],
          "name": "stdout"
        }
      ]
    },
    {
      "metadata": {
        "id": "z_eD0a33OdkS",
        "colab_type": "text"
      },
      "cell_type": "markdown",
      "source": [
        "## Boston Housing data\n",
        "### features: \n",
        "CRIM: per capita crime rate by town <br>\n",
        "ZN: proportion of residential land zoned for lots over 25,000 sq.ft. <br>\n",
        "INDUS: proportion of non-retail business acres per town <br>\n",
        "CHAS: Charles River dummy variable (= 1 if tract bounds river; 0 otherwise) <br>\n",
        "NOX: nitric oxides concentration (parts per 10 million) <br>\n",
        "RM: average number of rooms per dwelling <br>\n",
        "AGE: proportion of owner-occupied units built prior to 1940 <br>\n",
        "DIS: weighted distances to five Boston employment centres <br>\n",
        "RAD: index of accessibility to radial highways <br>\n",
        "TAX: full-value property-tax rate per $10,000 <br>\n",
        "PTRATIO: pupil-teacher ratio by town <br>\n",
        "B: 1000(Bk - 0.63)^2 where Bk is the proportion of b. by town <br>\n",
        "LSTAT: % lower status of the population\n",
        "\n",
        "### Targets: \n",
        "MEDV, Median value of owner-occupied homes in $1000's"
      ]
    },
    {
      "metadata": {
        "id": "hShF-8mYOdkS",
        "colab_type": "code",
        "colab": {
          "base_uri": "https://localhost:8080/",
          "height": 54
        },
        "outputId": "83101e28-a384-4c3d-bfe8-b758d002dcf3"
      },
      "cell_type": "code",
      "source": [
        "print(a.feature_names)"
      ],
      "execution_count": 3,
      "outputs": [
        {
          "output_type": "stream",
          "text": [
            "['CRIM' 'ZN' 'INDUS' 'CHAS' 'NOX' 'RM' 'AGE' 'DIS' 'RAD' 'TAX' 'PTRATIO'\n",
            " 'B' 'LSTAT']\n"
          ],
          "name": "stdout"
        }
      ]
    },
    {
      "metadata": {
        "id": "EgQxD5fxOdkU",
        "colab_type": "code",
        "colab": {}
      },
      "cell_type": "code",
      "source": [
        "## train and test data\n",
        "X_train, X_test, y_train, y_test = train_test_split(X, y, test_size=0.2, random_state=42)"
      ],
      "execution_count": 0,
      "outputs": []
    },
    {
      "metadata": {
        "id": "bDMPctsUOdkW",
        "colab_type": "code",
        "colab": {
          "base_uri": "https://localhost:8080/",
          "height": 90
        },
        "outputId": "4d2b0bb4-6328-4085-f57f-d1a07312f87f"
      },
      "cell_type": "code",
      "source": [
        "### Feature variables\n",
        "print(X_train.shape)\n",
        "X_train[:1]"
      ],
      "execution_count": 9,
      "outputs": [
        {
          "output_type": "stream",
          "text": [
            "(404, 13)\n"
          ],
          "name": "stdout"
        },
        {
          "output_type": "execute_result",
          "data": {
            "text/plain": [
              "array([[1.50234e+01, 0.00000e+00, 1.81000e+01, 0.00000e+00, 6.14000e-01,\n",
              "        5.30400e+00, 9.73000e+01, 2.10070e+00, 2.40000e+01, 6.66000e+02,\n",
              "        2.02000e+01, 3.49480e+02, 2.49100e+01]])"
            ]
          },
          "metadata": {
            "tags": []
          },
          "execution_count": 9
        }
      ]
    },
    {
      "metadata": {
        "scrolled": true,
        "id": "9er3XaUuOdkZ",
        "colab_type": "code",
        "colab": {
          "base_uri": "https://localhost:8080/",
          "height": 54
        },
        "outputId": "f9929005-7506-494c-c3dc-ba5e1d9f4855"
      },
      "cell_type": "code",
      "source": [
        "## Target\n",
        "print(y_train.shape)\n",
        "print(y_train[1])"
      ],
      "execution_count": 10,
      "outputs": [
        {
          "output_type": "stream",
          "text": [
            "(404,)\n",
            "19.9\n"
          ],
          "name": "stdout"
        }
      ]
    },
    {
      "metadata": {
        "id": "AdgjOgurOdkc",
        "colab_type": "text"
      },
      "cell_type": "markdown",
      "source": [
        "## Train the model"
      ]
    },
    {
      "metadata": {
        "id": "G1U2vbT5Odkd",
        "colab_type": "code",
        "colab": {
          "base_uri": "https://localhost:8080/",
          "height": 108
        },
        "outputId": "17a4debc-fed9-427b-f728-e02a4a05bb47"
      },
      "cell_type": "code",
      "source": [
        "## Train the model\n",
        "lm = LinearRegression()\n",
        "lm.fit(X_train, y_train)\n",
        "\n",
        "## Parpameter of trained model\n",
        "print(\"Coefficient of traind model:\", lm.coef_)\n",
        "print(\"Intercept of traind model:\", lm.intercept_ )"
      ],
      "execution_count": 5,
      "outputs": [
        {
          "output_type": "stream",
          "text": [
            "Coefficient of traind model: [-1.13055924e-01  3.01104641e-02  4.03807204e-02  2.78443820e+00\n",
            " -1.72026334e+01  4.43883520e+00 -6.29636221e-03 -1.44786537e+00\n",
            "  2.62429736e-01 -1.06467863e-02 -9.15456240e-01  1.23513347e-02\n",
            " -5.08571424e-01]\n",
            "Intercept of traind model: 30.246750993923925\n"
          ],
          "name": "stdout"
        }
      ]
    },
    {
      "metadata": {
        "id": "HUfuKkiROdkg",
        "colab_type": "text"
      },
      "cell_type": "markdown",
      "source": [
        "## Validate the trained model"
      ]
    },
    {
      "metadata": {
        "id": "lV4xW-5uOdkg",
        "colab_type": "code",
        "colab": {
          "base_uri": "https://localhost:8080/",
          "height": 54
        },
        "outputId": "5a15fcdf-cf8f-4fe1-e5a7-7c399cc2c930"
      },
      "cell_type": "code",
      "source": [
        "## the coefficient of determination R^2 of the prediction.\n",
        "print(\"R^2 of train data: \", lm.score(X_train, y_train))\n",
        "print(\"R^2 of test data: \", lm.score(X_test, y_test))"
      ],
      "execution_count": 6,
      "outputs": [
        {
          "output_type": "stream",
          "text": [
            "R^2 of train data:  0.7508856358979672\n",
            "R^2 of test data:  0.6687594935356307\n"
          ],
          "name": "stdout"
        }
      ]
    },
    {
      "metadata": {
        "id": "4azwFc7bOdkk",
        "colab_type": "text"
      },
      "cell_type": "markdown",
      "source": [
        "## Predict with the trained model"
      ]
    },
    {
      "metadata": {
        "id": "_LZiCJ0FOdkk",
        "colab_type": "code",
        "colab": {
          "base_uri": "https://localhost:8080/",
          "height": 72
        },
        "outputId": "914a97f1-00c4-46e9-d5d7-002b3cccd424"
      },
      "cell_type": "code",
      "source": [
        "y_pred = lm.predict(X_test)\n",
        "mse = sklearn.metrics.mean_squared_error(y_test, y_pred)\n",
        "print(\"MSE between predicted and test data : \", mse)\n",
        "\n",
        "i = 1\n",
        "y_pred1 = lm.predict([X_test[i]]) \n",
        "print(\"Predicted value : \", y_pred1)\n",
        "print(\"Actual value: \", y_test[i])"
      ],
      "execution_count": 7,
      "outputs": [
        {
          "output_type": "stream",
          "text": [
            "MSE between predicted and test data :  24.291119474973616\n",
            "Predicted value :  [36.02556534]\n",
            "Actual value:  32.4\n"
          ],
          "name": "stdout"
        }
      ]
    },
    {
      "metadata": {
        "id": "HGcY9PVpOdkn",
        "colab_type": "text"
      },
      "cell_type": "markdown",
      "source": [
        "## Feature Engineering"
      ]
    },
    {
      "metadata": {
        "id": "xXE4lT3SOdkn",
        "colab_type": "code",
        "colab": {}
      },
      "cell_type": "code",
      "source": [
        "from sklearn.preprocessing import StandardScaler"
      ],
      "execution_count": 0,
      "outputs": []
    },
    {
      "metadata": {
        "id": "2W5W4ot2Odkp",
        "colab_type": "code",
        "colab": {}
      },
      "cell_type": "code",
      "source": [
        "## Transform data\n",
        "Scaler = StandardScaler().fit(X_train)\n",
        "X_train2 = pd.DataFrame(Scaler.transform(X_train))\n",
        "X_test2 = pd.DataFrame(Scaler.transform(X_test))"
      ],
      "execution_count": 0,
      "outputs": []
    },
    {
      "metadata": {
        "id": "iTlDGdm_Odkr",
        "colab_type": "code",
        "colab": {}
      },
      "cell_type": "code",
      "source": [
        "## Transform data\n",
        "Scaler = StandardScaler().fit(X_train)\n",
        "X_train2 = Scaler.transform(X_train)\n",
        "X_test2 = Scaler.transform(X_test)"
      ],
      "execution_count": 0,
      "outputs": []
    },
    {
      "metadata": {
        "id": "9u7qYDliOdkt",
        "colab_type": "code",
        "colab": {
          "base_uri": "https://localhost:8080/",
          "height": 290
        },
        "outputId": "3154c8ef-6e15-468e-e257-cbf29f0aab29"
      },
      "cell_type": "code",
      "source": [
        "X_train[:5]"
      ],
      "execution_count": 10,
      "outputs": [
        {
          "output_type": "execute_result",
          "data": {
            "text/plain": [
              "array([[1.50234e+01, 0.00000e+00, 1.81000e+01, 0.00000e+00, 6.14000e-01,\n",
              "        5.30400e+00, 9.73000e+01, 2.10070e+00, 2.40000e+01, 6.66000e+02,\n",
              "        2.02000e+01, 3.49480e+02, 2.49100e+01],\n",
              "       [6.27390e-01, 0.00000e+00, 8.14000e+00, 0.00000e+00, 5.38000e-01,\n",
              "        5.83400e+00, 5.65000e+01, 4.49860e+00, 4.00000e+00, 3.07000e+02,\n",
              "        2.10000e+01, 3.95620e+02, 8.47000e+00],\n",
              "       [3.46600e-02, 3.50000e+01, 6.06000e+00, 0.00000e+00, 4.37900e-01,\n",
              "        6.03100e+00, 2.33000e+01, 6.64070e+00, 1.00000e+00, 3.04000e+02,\n",
              "        1.69000e+01, 3.62250e+02, 7.83000e+00],\n",
              "       [7.05042e+00, 0.00000e+00, 1.81000e+01, 0.00000e+00, 6.14000e-01,\n",
              "        6.10300e+00, 8.51000e+01, 2.02180e+00, 2.40000e+01, 6.66000e+02,\n",
              "        2.02000e+01, 2.52000e+00, 2.32900e+01],\n",
              "       [7.25800e-01, 0.00000e+00, 8.14000e+00, 0.00000e+00, 5.38000e-01,\n",
              "        5.72700e+00, 6.95000e+01, 3.79650e+00, 4.00000e+00, 3.07000e+02,\n",
              "        2.10000e+01, 3.90950e+02, 1.12800e+01]])"
            ]
          },
          "metadata": {
            "tags": []
          },
          "execution_count": 10
        }
      ]
    },
    {
      "metadata": {
        "id": "MvaJs7r7Odkw",
        "colab_type": "code",
        "colab": {
          "base_uri": "https://localhost:8080/",
          "height": 290
        },
        "outputId": "ae5e7379-ded7-4dd6-bcc2-39b7fa93166d"
      },
      "cell_type": "code",
      "source": [
        "X_train2[:5]"
      ],
      "execution_count": 11,
      "outputs": [
        {
          "output_type": "execute_result",
          "data": {
            "text/plain": [
              "array([[ 1.28770177, -0.50032012,  1.03323679, -0.27808871,  0.48925206,\n",
              "        -1.42806858,  1.02801516, -0.80217296,  1.70689143,  1.57843444,\n",
              "         0.84534281, -0.07433689,  1.75350503],\n",
              "       [-0.33638447, -0.50032012, -0.41315956, -0.27808871, -0.15723342,\n",
              "        -0.68008655, -0.43119908,  0.32434893, -0.62435988, -0.58464788,\n",
              "         1.20474139,  0.4301838 , -0.5614742 ],\n",
              "       [-0.40325332,  1.01327135, -0.71521823, -0.27808871, -1.00872286,\n",
              "        -0.40206304, -1.6185989 ,  1.3306972 , -0.97404758, -0.60272378,\n",
              "        -0.63717631,  0.06529747, -0.65159505],\n",
              "       [ 0.38822983, -0.50032012,  1.03323679, -0.27808871,  0.48925206,\n",
              "        -0.30045039,  0.59168149, -0.8392398 ,  1.70689143,  1.57843444,\n",
              "         0.84534281, -3.86819251,  1.52538664],\n",
              "       [-0.32528234, -0.50032012, -0.41315956, -0.27808871, -0.15723342,\n",
              "        -0.83109424,  0.03374663, -0.00549428, -0.62435988, -0.58464788,\n",
              "         1.20474139,  0.3791194 , -0.16578736]])"
            ]
          },
          "metadata": {
            "tags": []
          },
          "execution_count": 11
        }
      ]
    },
    {
      "metadata": {
        "id": "rfcwMX-lOdkz",
        "colab_type": "code",
        "colab": {
          "base_uri": "https://localhost:8080/",
          "height": 72
        },
        "outputId": "52effeaa-6e33-4991-877b-27e7f5ef2a2f"
      },
      "cell_type": "code",
      "source": [
        "## Train the model\n",
        "lm2 = LinearRegression()\n",
        "lm2.fit(X_train2, y_train)\n",
        "\n",
        "print(\"R^2 of train data: \", lm2.score(X_train2, y_train))\n",
        "print(\"R^2 of test data: \", lm2.score(X_test2, y_test))\n",
        "\n",
        "y_pred2 = lm2.predict(X_test2)\n",
        "mse2 = sklearn.metrics.mean_squared_error(y_test, y_pred2)\n",
        "print(\"MSE between predicted and test data : \", mse2)"
      ],
      "execution_count": 12,
      "outputs": [
        {
          "output_type": "stream",
          "text": [
            "R^2 of train data:  0.7508856358979672\n",
            "R^2 of test data:  0.6687594935356321\n",
            "MSE between predicted and test data :  24.29111947497351\n"
          ],
          "name": "stdout"
        }
      ]
    }
  ]
}