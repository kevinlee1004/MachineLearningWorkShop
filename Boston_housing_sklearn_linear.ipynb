{
 "cells": [
  {
   "cell_type": "code",
   "execution_count": 44,
   "metadata": {},
   "outputs": [],
   "source": [
    "## import module \n",
    "import numpy\n",
    "import pandas as pd\n",
    "import sklearn\n",
    "from sklearn.model_selection import train_test_split\n",
    "\n",
    "from sklearn.linear_model import LinearRegression"
   ]
  },
  {
   "cell_type": "code",
   "execution_count": 20,
   "metadata": {},
   "outputs": [
    {
     "name": "stdout",
     "output_type": "stream",
     "text": [
      "(506, 13) (506,)\n"
     ]
    }
   ],
   "source": [
    "## import boston housing data\n",
    "a = numpy.load('./data/boston_housing.npz')\n",
    "X, y = a['x'], a['y']\n",
    "print(X.shape, y.shape)"
   ]
  },
  {
   "cell_type": "markdown",
   "metadata": {},
   "source": [
    "## Boston Housing data\n",
    "### features: \n",
    "CRIM: per capita crime rate by town <br>\n",
    "ZN: proportion of residential land zoned for lots over 25,000 sq.ft. <br>\n",
    "INDUS: proportion of non-retail business acres per town <br>\n",
    "CHAS: Charles River dummy variable (= 1 if tract bounds river; 0 otherwise) <br>\n",
    "NOX: nitric oxides concentration (parts per 10 million) <br>\n",
    "RM: average number of rooms per dwelling <br>\n",
    "AGE: proportion of owner-occupied units built prior to 1940 <br>\n",
    "DIS: weighted distances to five Boston employment centres <br>\n",
    "RAD: index of accessibility to radial highways <br>\n",
    "TAX: full-value property-tax rate per $10,000 <br>\n",
    "PTRATIO: pupil-teacher ratio by town <br>\n",
    "B: 1000(Bk - 0.63)^2 where Bk is the proportion of b. by town <br>\n",
    "LSTAT: % lower status of the population\n",
    "\n",
    "### Targets: \n",
    "MEDV, Median value of owner-occupied homes in $1000's"
   ]
  },
  {
   "cell_type": "code",
   "execution_count": null,
   "metadata": {},
   "outputs": [],
   "source": [
    "print(a.feature_names)"
   ]
  },
  {
   "cell_type": "code",
   "execution_count": 16,
   "metadata": {},
   "outputs": [],
   "source": [
    "## train and test data\n",
    "X_train, X_test, y_train, y_test = train_test_split(X, y, test_size=0.2, random_state=42)"
   ]
  },
  {
   "cell_type": "code",
   "execution_count": 24,
   "metadata": {},
   "outputs": [
    {
     "name": "stdout",
     "output_type": "stream",
     "text": [
      "(404, 13)\n"
     ]
    },
    {
     "data": {
      "text/plain": [
       "array([[1.50234e+01, 0.00000e+00, 1.81000e+01, 0.00000e+00, 6.14000e-01,\n",
       "        5.30400e+00, 9.73000e+01, 2.10070e+00, 2.40000e+01, 6.66000e+02,\n",
       "        2.02000e+01, 3.49480e+02, 2.49100e+01]])"
      ]
     },
     "execution_count": 24,
     "metadata": {},
     "output_type": "execute_result"
    }
   ],
   "source": [
    "### Feature variables\n",
    "print(X_train.shape)\n",
    "X_train[:1]"
   ]
  },
  {
   "cell_type": "code",
   "execution_count": 25,
   "metadata": {
    "scrolled": true
   },
   "outputs": [
    {
     "name": "stdout",
     "output_type": "stream",
     "text": [
      "(404,)\n",
      "19.9\n"
     ]
    }
   ],
   "source": [
    "## Target\n",
    "print(y_train.shape)\n",
    "print(y_train[1])"
   ]
  },
  {
   "cell_type": "markdown",
   "metadata": {},
   "source": [
    "## Train the model"
   ]
  },
  {
   "cell_type": "code",
   "execution_count": 31,
   "metadata": {},
   "outputs": [
    {
     "name": "stdout",
     "output_type": "stream",
     "text": [
      "Coefficient of traind model: [-1.13055924e-01  3.01104641e-02  4.03807204e-02  2.78443820e+00\n",
      " -1.72026334e+01  4.43883520e+00 -6.29636221e-03 -1.44786537e+00\n",
      "  2.62429736e-01 -1.06467863e-02 -9.15456240e-01  1.23513347e-02\n",
      " -5.08571424e-01]\n",
      "Intercept of traind model: 30.246750993923946\n"
     ]
    }
   ],
   "source": [
    "## Train the model\n",
    "lm = LinearRegression()\n",
    "lm.fit(X_train, y_train)\n",
    "\n",
    "## Parpameter of trained model\n",
    "print(\"Coefficient of traind model:\", lm.coef_)\n",
    "print(\"Intercept of traind model:\", lm.intercept_ )"
   ]
  },
  {
   "cell_type": "markdown",
   "metadata": {},
   "source": [
    "## Validate the trained model"
   ]
  },
  {
   "cell_type": "code",
   "execution_count": 34,
   "metadata": {},
   "outputs": [
    {
     "name": "stdout",
     "output_type": "stream",
     "text": [
      "R^2 of train data:  0.7508856358979673\n",
      "R^2 of test data:  0.6687594935356329\n"
     ]
    }
   ],
   "source": [
    "## the coefficient of determination R^2 of the prediction.\n",
    "print(\"R^2 of train data: \", lm.score(X_train, y_train))\n",
    "print(\"R^2 of test data: \", lm.score(X_test, y_test))"
   ]
  },
  {
   "cell_type": "markdown",
   "metadata": {},
   "source": [
    "## Predict with the trained model"
   ]
  },
  {
   "cell_type": "code",
   "execution_count": 57,
   "metadata": {},
   "outputs": [
    {
     "name": "stdout",
     "output_type": "stream",
     "text": [
      "MSE between predicted and test data :  24.291119474973456\n",
      "Predicted value :  [36.02556534]\n",
      "Actual value:  32.4\n"
     ]
    }
   ],
   "source": [
    "y_pred = lm.predict(X_test)\n",
    "mse = sklearn.metrics.mean_squared_error(y_test, y_pred)\n",
    "print(\"MSE between predicted and test data : \", mse)\n",
    "\n",
    "i = 1\n",
    "y_pred1 = lm.predict([X_test[i]]) \n",
    "print(\"Predicted value : \", y_pred1)\n",
    "print(\"Actual value: \", y_test[i])"
   ]
  },
  {
   "cell_type": "markdown",
   "metadata": {},
   "source": [
    "## Feature Engineering"
   ]
  },
  {
   "cell_type": "code",
   "execution_count": 43,
   "metadata": {},
   "outputs": [],
   "source": [
    "from sklearn.preprocessing import StandardScaler"
   ]
  },
  {
   "cell_type": "code",
   "execution_count": 46,
   "metadata": {},
   "outputs": [],
   "source": [
    "## Transform data\n",
    "Scaler = StandardScaler().fit(X_train)\n",
    "X_train2 = pd.DataFrame(Scaler.transform(X_train))\n",
    "X_test2 = pd.DataFrame(Scaler.transform(X_test))"
   ]
  },
  {
   "cell_type": "code",
   "execution_count": 48,
   "metadata": {},
   "outputs": [],
   "source": [
    "## Transform data\n",
    "Scaler = StandardScaler().fit(X_train)\n",
    "X_train2 = Scaler.transform(X_train)\n",
    "X_test2 = Scaler.transform(X_test)"
   ]
  },
  {
   "cell_type": "code",
   "execution_count": 52,
   "metadata": {},
   "outputs": [
    {
     "data": {
      "text/plain": [
       "array([[1.50234e+01, 0.00000e+00, 1.81000e+01, 0.00000e+00, 6.14000e-01,\n",
       "        5.30400e+00, 9.73000e+01, 2.10070e+00, 2.40000e+01, 6.66000e+02,\n",
       "        2.02000e+01, 3.49480e+02, 2.49100e+01],\n",
       "       [6.27390e-01, 0.00000e+00, 8.14000e+00, 0.00000e+00, 5.38000e-01,\n",
       "        5.83400e+00, 5.65000e+01, 4.49860e+00, 4.00000e+00, 3.07000e+02,\n",
       "        2.10000e+01, 3.95620e+02, 8.47000e+00],\n",
       "       [3.46600e-02, 3.50000e+01, 6.06000e+00, 0.00000e+00, 4.37900e-01,\n",
       "        6.03100e+00, 2.33000e+01, 6.64070e+00, 1.00000e+00, 3.04000e+02,\n",
       "        1.69000e+01, 3.62250e+02, 7.83000e+00],\n",
       "       [7.05042e+00, 0.00000e+00, 1.81000e+01, 0.00000e+00, 6.14000e-01,\n",
       "        6.10300e+00, 8.51000e+01, 2.02180e+00, 2.40000e+01, 6.66000e+02,\n",
       "        2.02000e+01, 2.52000e+00, 2.32900e+01],\n",
       "       [7.25800e-01, 0.00000e+00, 8.14000e+00, 0.00000e+00, 5.38000e-01,\n",
       "        5.72700e+00, 6.95000e+01, 3.79650e+00, 4.00000e+00, 3.07000e+02,\n",
       "        2.10000e+01, 3.90950e+02, 1.12800e+01]])"
      ]
     },
     "execution_count": 52,
     "metadata": {},
     "output_type": "execute_result"
    }
   ],
   "source": [
    "X_train[:5]"
   ]
  },
  {
   "cell_type": "code",
   "execution_count": 49,
   "metadata": {},
   "outputs": [
    {
     "data": {
      "text/plain": [
       "array([[ 1.28770177, -0.50032012,  1.03323679, -0.27808871,  0.48925206,\n",
       "        -1.42806858,  1.02801516, -0.80217296,  1.70689143,  1.57843444,\n",
       "         0.84534281, -0.07433689,  1.75350503],\n",
       "       [-0.33638447, -0.50032012, -0.41315956, -0.27808871, -0.15723342,\n",
       "        -0.68008655, -0.43119908,  0.32434893, -0.62435988, -0.58464788,\n",
       "         1.20474139,  0.4301838 , -0.5614742 ],\n",
       "       [-0.40325332,  1.01327135, -0.71521823, -0.27808871, -1.00872286,\n",
       "        -0.40206304, -1.6185989 ,  1.3306972 , -0.97404758, -0.60272378,\n",
       "        -0.63717631,  0.06529747, -0.65159505],\n",
       "       [ 0.38822983, -0.50032012,  1.03323679, -0.27808871,  0.48925206,\n",
       "        -0.30045039,  0.59168149, -0.8392398 ,  1.70689143,  1.57843444,\n",
       "         0.84534281, -3.86819251,  1.52538664],\n",
       "       [-0.32528234, -0.50032012, -0.41315956, -0.27808871, -0.15723342,\n",
       "        -0.83109424,  0.03374663, -0.00549428, -0.62435988, -0.58464788,\n",
       "         1.20474139,  0.3791194 , -0.16578736]])"
      ]
     },
     "execution_count": 49,
     "metadata": {},
     "output_type": "execute_result"
    }
   ],
   "source": [
    "X_train2[:5]"
   ]
  },
  {
   "cell_type": "code",
   "execution_count": 51,
   "metadata": {},
   "outputs": [
    {
     "name": "stdout",
     "output_type": "stream",
     "text": [
      "R^2 of train data:  0.7508856358979672\n",
      "R^2 of test data:  0.668759493535632\n",
      "MSE between predicted and test data :  24.291119474973517\n"
     ]
    }
   ],
   "source": [
    "## Train the model\n",
    "lm2 = LinearRegression()\n",
    "lm2.fit(X_train2, y_train)\n",
    "\n",
    "print(\"R^2 of train data: \", lm2.score(X_train2, y_train))\n",
    "print(\"R^2 of test data: \", lm2.score(X_test2, y_test))\n",
    "\n",
    "y_pred2 = lm2.predict(X_test2)\n",
    "mse2 = sklearn.metrics.mean_squared_error(y_test, y_pred2)\n",
    "print(\"MSE between predicted and test data : \", mse2)"
   ]
  },
  {
   "cell_type": "code",
   "execution_count": null,
   "metadata": {},
   "outputs": [],
   "source": []
  },
  {
   "cell_type": "code",
   "execution_count": null,
   "metadata": {},
   "outputs": [],
   "source": []
  }
 ],
 "metadata": {
  "kernelspec": {
   "display_name": "Python 3",
   "language": "python",
   "name": "python3"
  },
  "language_info": {
   "codemirror_mode": {
    "name": "ipython",
    "version": 3
   },
   "file_extension": ".py",
   "mimetype": "text/x-python",
   "name": "python",
   "nbconvert_exporter": "python",
   "pygments_lexer": "ipython3",
   "version": "3.6.7"
  }
 },
 "nbformat": 4,
 "nbformat_minor": 2
}
