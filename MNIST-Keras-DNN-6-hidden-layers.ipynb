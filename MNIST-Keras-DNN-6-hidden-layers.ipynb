{
 "cells": [
  {
   "cell_type": "code",
   "execution_count": 1,
   "metadata": {},
   "outputs": [
    {
     "name": "stderr",
     "output_type": "stream",
     "text": [
      "Using TensorFlow backend.\n"
     ]
    }
   ],
   "source": [
    "## import modules\n",
    "import numpy as np \n",
    "import pandas as pd\n",
    "from sklearn.model_selection import train_test_split\n",
    "import matplotlib.pyplot as plt\n",
    "\n",
    "from keras.models import Sequential\n",
    "from keras.layers import Dense\n",
    "from keras.utils import to_categorical\n",
    "from keras.callbacks import Callback\n",
    "\n",
    "from keras.datasets import mnist\n",
    "\n",
    "SEED = 2017"
   ]
  },
  {
   "cell_type": "code",
   "execution_count": 2,
   "metadata": {},
   "outputs": [],
   "source": [
    "## import MNIST data\n",
    "#(X_train, y_train), (X_val, y_val) = mnist.load_data()\n",
    "\n",
    "b = np.load('./data/mnist.npz')\n",
    "## train and test data\n",
    "X_train, y_train, X_val, y_val = b['x_train'], b['y_train'], b['x_test'], b['y_test']"
   ]
  },
  {
   "cell_type": "code",
   "execution_count": 3,
   "metadata": {},
   "outputs": [
    {
     "name": "stdout",
     "output_type": "stream",
     "text": [
      "Sahpe of training data :  (60000, 28, 28)\n",
      "label ;  3\n"
     ]
    },
    {
     "data": {
      "image/png": "[encoded data removed]",
      "text/plain": [
       "<Figure size 432x288 with 1 Axes>"
      ]
     },
     "metadata": {
      "needs_background": "light"
     },
     "output_type": "display_data"
    }
   ],
   "source": [
    "## data review\n",
    "print(\"Sahpe of training data : \", X_train.shape)\n",
    "i = 10\n",
    "print(\"label ; \", y_train[i])\n",
    "plt.imshow(X_train[i], cmap='gray')\n",
    "plt.show()"
   ]
  },
  {
   "cell_type": "code",
   "execution_count": 4,
   "metadata": {},
   "outputs": [
    {
     "data": {
      "image/png": "[encoded data removed]",
      "text/plain": [
       "<Figure size 864x864 with 10 Axes>"
      ]
     },
     "metadata": {
      "needs_background": "light"
     },
     "output_type": "display_data"
    }
   ],
   "source": [
    "## Data Visualization\n",
    "# Plot first image of each label\n",
    "unique_labels = set(y_train)\n",
    "plt.figure(figsize=(12, 12))\n",
    "\n",
    "i = 1\n",
    "for label in unique_labels:\n",
    "    image = X_train[y_train.tolist().index(label)]\n",
    "    plt.subplot(10, 10, i)\n",
    "    plt.axis('off')\n",
    "    plt.title(\"{0}: ({1})\".format(label, y_train.tolist().count(label)))\n",
    "    i += 1\n",
    "    _ = plt.imshow(image, cmap='gray')\n",
    "plt.show()"
   ]
  },
  {
   "cell_type": "code",
   "execution_count": 5,
   "metadata": {},
   "outputs": [],
   "source": [
    "## Feature Engineering\n",
    "## Normalize data\n",
    "X_train2 = X_train.astype('float32')/255.\n",
    "X_val2 = X_val.astype('float32')/255.\n",
    "\n",
    "## One-Hot-Encode labels\n",
    "n_classes = 10\n",
    "y_train2 = to_categorical(y_train, n_classes)\n",
    "y_val2 = to_categorical(y_val, n_classes)\n",
    "\n",
    "## Flatten data - we threat the image as a sequential array of values\n",
    "X_train3 = np.reshape(X_train2, (60000, 784))\n",
    "X_val3 = np.reshape(X_val2, (10000, 784))"
   ]
  },
  {
   "cell_type": "code",
   "execution_count": 6,
   "metadata": {},
   "outputs": [
    {
     "name": "stdout",
     "output_type": "stream",
     "text": [
      "(60000, 28, 28) (10000, 28, 28)\n",
      "(60000, 28, 28) (10000, 28, 28)\n",
      "(60000, 784) (10000, 784)\n",
      "\n",
      "(60000,) (10000,)\n",
      "(60000, 10) (10000, 10)\n"
     ]
    }
   ],
   "source": [
    "## Final Data shape\n",
    "print(X_train.shape, X_val.shape)\n",
    "print(X_train2.shape, X_val2.shape)\n",
    "print(X_train3.shape, X_val3.shape)\n",
    "print()\n",
    "print(y_train.shape, y_val.shape)\n",
    "print(y_train2.shape, y_val2.shape)"
   ]
  },
  {
   "cell_type": "code",
   "execution_count": 7,
   "metadata": {},
   "outputs": [],
   "source": [
    "## Build DNN model with Sigmoid Activation Function\n",
    "model = Sequential()\n",
    "model.add(Dense(700, input_dim=784, activation='relu'))\n",
    "model.add(Dense(700, activation='relu'))\n",
    "model.add(Dense(700, activation='relu')) \n",
    "model.add(Dense(350, activation='relu')) \n",
    "model.add(Dense(100, activation='relu')) \n",
    "model.add(Dense(10, activation='softmax'))\n",
    "\n",
    "# Compile model with SGD\n",
    "model.compile(loss='categorical_crossentropy', optimizer='sgd', metrics=['accuracy'])"
   ]
  },
  {
   "cell_type": "code",
   "execution_count": 8,
   "metadata": {},
   "outputs": [
    {
     "name": "stdout",
     "output_type": "stream",
     "text": [
      "_________________________________________________________________\n",
      "Layer (type)                 Output Shape              Param #   \n",
      "=================================================================\n",
      "dense_1 (Dense)              (None, 700)               549500    \n",
      "_________________________________________________________________\n",
      "dense_2 (Dense)              (None, 700)               490700    \n",
      "_________________________________________________________________\n",
      "dense_3 (Dense)              (None, 700)               490700    \n",
      "_________________________________________________________________\n",
      "dense_4 (Dense)              (None, 350)               245350    \n",
      "_________________________________________________________________\n",
      "dense_5 (Dense)              (None, 100)               35100     \n",
      "_________________________________________________________________\n",
      "dense_6 (Dense)              (None, 10)                1010      \n",
      "=================================================================\n",
      "Total params: 1,812,360\n",
      "Trainable params: 1,812,360\n",
      "Non-trainable params: 0\n",
      "_________________________________________________________________\n"
     ]
    }
   ],
   "source": [
    "model.summary()"
   ]
  },
  {
   "cell_type": "code",
   "execution_count": 18,
   "metadata": {},
   "outputs": [
    {
     "name": "stdout",
     "output_type": "stream",
     "text": [
      "Train on 60000 samples, validate on 10000 samples\n",
      "Epoch 1/10\n",
      "60000/60000 [==============================] - 10s 167us/step - loss: 0.1908 - acc: 0.9455 - val_loss: 0.1922 - val_acc: 0.9447\n",
      "Epoch 2/10\n",
      "60000/60000 [==============================] - 10s 167us/step - loss: 0.1806 - acc: 0.9479 - val_loss: 0.1770 - val_acc: 0.9467\n",
      "Epoch 3/10\n",
      "60000/60000 [==============================] - 10s 167us/step - loss: 0.1715 - acc: 0.9512 - val_loss: 0.1739 - val_acc: 0.9483\n",
      "Epoch 4/10\n",
      "60000/60000 [==============================] - 10s 167us/step - loss: 0.1628 - acc: 0.9532 - val_loss: 0.1637 - val_acc: 0.9518\n",
      "Epoch 5/10\n",
      "60000/60000 [==============================] - 10s 164us/step - loss: 0.1546 - acc: 0.9555 - val_loss: 0.1546 - val_acc: 0.9542\n",
      "Epoch 6/10\n",
      "60000/60000 [==============================] - 10s 167us/step - loss: 0.1480 - acc: 0.9579 - val_loss: 0.1519 - val_acc: 0.9556\n",
      "Epoch 7/10\n",
      "60000/60000 [==============================] - 10s 165us/step - loss: 0.1421 - acc: 0.9593 - val_loss: 0.1485 - val_acc: 0.9555\n",
      "Epoch 8/10\n",
      "60000/60000 [==============================] - 10s 166us/step - loss: 0.1354 - acc: 0.9612 - val_loss: 0.1489 - val_acc: 0.9554\n",
      "Epoch 9/10\n",
      "60000/60000 [==============================] - 10s 166us/step - loss: 0.1300 - acc: 0.9628 - val_loss: 0.1451 - val_acc: 0.9578\n",
      "Epoch 10/10\n",
      "60000/60000 [==============================] - 10s 165us/step - loss: 0.1243 - acc: 0.9647 - val_loss: 0.1403 - val_acc: 0.9586\n"
     ]
    },
    {
     "data": {
      "text/plain": [
       "<keras.callbacks.History at 0x1bdd9621e48>"
      ]
     },
     "execution_count": 18,
     "metadata": {},
     "output_type": "execute_result"
    }
   ],
   "source": [
    "## Train the model with training data. \n",
    "model.fit(X_train3, y_train2, epochs=10, batch_size=256, validation_data=(X_val3,y_val2), verbose=1)"
   ]
  },
  {
   "cell_type": "code",
   "execution_count": 10,
   "metadata": {},
   "outputs": [],
   "source": [
    "## Predict with the trained model\n",
    "pred = model.predict(X_val3)"
   ]
  },
  {
   "cell_type": "code",
   "execution_count": 11,
   "metadata": {},
   "outputs": [
    {
     "name": "stdout",
     "output_type": "stream",
     "text": [
      "Actual data :  3\n",
      "Predicted:  [2.8714942e-04 8.7358996e-05 7.3439372e-04 9.5785195e-01 3.5329986e-06\n",
      " 3.3736490e-02 1.1627815e-06 5.7233626e-04 4.3212445e-03 2.4044844e-03]\n",
      "Predicted value:  3\n"
     ]
    }
   ],
   "source": [
    "i = 90\n",
    "print(\"Actual data : \", y_val[i])\n",
    "print(\"Predicted: \", pred[i])\n",
    "print(\"Predicted value: \", np.argmax(pred[i]))"
   ]
  },
  {
   "cell_type": "code",
   "execution_count": 13,
   "metadata": {},
   "outputs": [
    {
     "name": "stdout",
     "output_type": "stream",
     "text": [
      "[<keras.layers.core.Dense object at 0x000001BDD7B1B9B0>, <keras.layers.core.Dense object at 0x000001BDD7E30E48>, <keras.layers.core.Dense object at 0x000001BDD7E30550>, <keras.layers.core.Dense object at 0x000001BDD7B27C50>, <keras.layers.core.Dense object at 0x000001BDD7E26EF0>, <keras.layers.core.Dense object at 0x000001BDD80F69B0>]\n"
     ]
    }
   ],
   "source": [
    "### Model Parameters Extraction\n",
    "## Extract parametes from the trained model\n",
    "weights2=[]\n",
    "\n",
    "print(model.layers)\n",
    "\n",
    "for layer in model.layers:\n",
    "    weight=layer.get_weights()\n",
    "    weights2.append(weight)"
   ]
  },
  {
   "cell_type": "code",
   "execution_count": 16,
   "metadata": {},
   "outputs": [
    {
     "name": "stdout",
     "output_type": "stream",
     "text": [
      "Number of layers:  6\n",
      "1st layer in model : 2\n",
      "      weights:  (784, 700)\n",
      "      bias :  (700,)\n",
      "2nd layer in model : 2\n",
      "      weights:  (700, 700)\n",
      "      bias :  (700,)\n",
      "3rd layer in model : 2\n",
      "      weights:  (700, 700)\n",
      "      bias :  (700,)\n",
      "4th layer in model : 2\n",
      "      weights:  (700, 350)\n",
      "      bias :  (350,)\n",
      "5th layer in model : 2\n",
      "      weights:  (350, 100)\n",
      "      bias :  (100,)\n",
      "6th layer in model : 2\n",
      "      weights:  (100, 10)\n",
      "      bias :  (10,)\n"
     ]
    }
   ],
   "source": [
    "print(\"Number of layers: \", len(weights2))\n",
    "\n",
    "print(\"1st layer in model :\", len(weights2[0]))\n",
    "print(\"      weights: \", weights2[0][0].shape)\n",
    "print(\"      bias : \", weights2[0][1].shape)\n",
    "\n",
    "print(\"2nd layer in model :\", len(weights2[1]))\n",
    "print(\"      weights: \", weights2[1][0].shape)\n",
    "print(\"      bias : \", weights2[1][1].shape)\n",
    "\n",
    "print(\"3rd layer in model :\", len(weights2[2]))\n",
    "print(\"      weights: \", weights2[2][0].shape)\n",
    "print(\"      bias : \", weights2[2][1].shape)\n",
    "\n",
    "print(\"4th layer in model :\", len(weights2[3]))\n",
    "print(\"      weights: \", weights2[3][0].shape)\n",
    "print(\"      bias : \", weights2[3][1].shape)\n",
    "\n",
    "print(\"5th layer in model :\", len(weights2[4]))\n",
    "print(\"      weights: \", weights2[4][0].shape)\n",
    "print(\"      bias : \", weights2[4][1].shape)\n",
    "\n",
    "print(\"6th layer in model :\", len(weights2[5]))\n",
    "print(\"      weights: \", weights2[5][0].shape)\n",
    "print(\"      bias : \", weights2[5][1].shape)"
   ]
  },
  {
   "cell_type": "code",
   "execution_count": 19,
   "metadata": {},
   "outputs": [
    {
     "name": "stdout",
     "output_type": "stream",
     "text": [
      "[[-0.00444709 -0.04365118 -0.02491393 ... -0.03783811 -0.03619938\n",
      "  -0.02900833]\n",
      " [-0.04694156 -0.05927375 -0.05468663 ... -0.0419594  -0.01280696\n",
      "  -0.03004756]\n",
      " [ 0.05923524 -0.00077683 -0.06150835 ...  0.04015543  0.05375114\n",
      "   0.0315309 ]\n",
      " ...\n",
      " [ 0.05169898  0.06244323 -0.02433132 ... -0.02900487 -0.01455933\n",
      "  -0.05388777]\n",
      " [ 0.00845893 -0.02073254  0.03386652 ...  0.0537618  -0.01335836\n",
      "   0.01430424]\n",
      " [ 0.03848212 -0.04333223 -0.03767564 ... -0.03654511 -0.06195962\n",
      "   0.04780655]]\n"
     ]
    }
   ],
   "source": [
    "print(weights2[0][0])"
   ]
  },
  {
   "cell_type": "code",
   "execution_count": null,
   "metadata": {},
   "outputs": [],
   "source": []
  }
 ],
 "metadata": {
  "kernelspec": {
   "display_name": "Python 3",
   "language": "python",
   "name": "python3"
  },
  "language_info": {
   "codemirror_mode": {
    "name": "ipython",
    "version": 3
   },
   "file_extension": ".py",
   "mimetype": "text/x-python",
   "name": "python",
   "nbconvert_exporter": "python",
   "pygments_lexer": "ipython3",
   "version": "3.6.7"
  },
  "widgets": {
   "state": {},
   "version": "1.1.2"
  }
 },
 "nbformat": 4,
 "nbformat_minor": 2
}
